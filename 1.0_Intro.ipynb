{
 "cells": [
  {
   "cell_type": "markdown",
   "metadata": {
    "colab_type": "text",
    "id": "kY33yv3Wg888"
   },
   "source": [
    "# 1.0 Introduction to Python\n",
    "\n"
   ]
  },
  {
   "cell_type": "markdown",
   "metadata": {
    "colab_type": "text",
    "id": "0hCMtLipg88-"
   },
   "source": [
    "\n",
    "\n",
    "### Why Python?\n",
    "\n",
    "1. It’s easy to learn\n",
    "- Now the language of choice for 8 of 10 top US computer science\n",
    "programs (Philip Guo, CACM)\n",
    "2. Full featured\n",
    "- Not just a statistics language, but has full capabilities for data\n",
    "acquisition, cleaning, databases, high performance computing, and more\n",
    "3. Strong Data Science Libraries\n",
    "- Numpy, SciPy, Scikit-learn etc\n",
    "\n",
    "\n",
    "It's important to note that Python isn't the only way that we could teach data science. We can teach data science in R, in Excel, in any number of software packages.  The concepts are more important for you to understand. \n",
    "\n",
    "\n",
    "\n",
    "### Your first program: Print!\n",
    "\n",
    "Python can handle strings of letters that are enclosed in quotation marks like:  \n",
    "\n",
    "`\"I love TAR UC\"` or `'I love Malaysia'`\n",
    "\n",
    "One of the simplest programs is print, which works like the following:"
   ]
  },
  {
   "cell_type": "code",
   "execution_count": 1,
   "metadata": {
    "colab": {},
    "colab_type": "code",
    "id": "uHEIda96g89A",
    "outputId": "7565a9bb-9a2b-4396-984b-3bff20457b5b",
    "scrolled": false
   },
   "outputs": [
    {
     "data": {
      "text/plain": [
       "'I love TAR UC'"
      ]
     },
     "execution_count": 1,
     "metadata": {},
     "output_type": "execute_result"
    }
   ],
   "source": [
    "\"I love TAR UC\""
   ]
  },
  {
   "cell_type": "markdown",
   "metadata": {
    "colab_type": "text",
    "id": "oGvETCxGg89I"
   },
   "source": [
    "### print\n",
    "\n",
    "type **print(\"Hello World\")** and observe the difference"
   ]
  },
  {
   "cell_type": "code",
   "execution_count": 2,
   "metadata": {
    "colab": {},
    "colab_type": "code",
    "id": "JyEMKNQPg89J",
    "outputId": "4e5761d8-47e7-4276-916f-ac526e59f504"
   },
   "outputs": [
    {
     "name": "stdout",
     "output_type": "stream",
     "text": [
      "Hello World\n"
     ]
    }
   ],
   "source": [
    "print(\"Hello World\")"
   ]
  },
  {
   "cell_type": "markdown",
   "metadata": {
    "colab_type": "text",
    "id": "_I8QUrO7g89P"
   },
   "source": [
    "# Arithmetic\n",
    "\n",
    "Python can also handle numbers, and basic arithmetic using the following functions.\n",
    "\n",
    "| Symbol | Task Performed |\n",
    "|----|---|\n",
    "| +  | Addition |\n",
    "| -  | Subtraction |\n",
    "| /  | division |\n",
    "| %  | modulo |\n",
    "| *  | multiplication |\n",
    "| //  | floor division |\n",
    "| **  | to the power of |"
   ]
  },
  {
   "cell_type": "code",
   "execution_count": 3,
   "metadata": {
    "colab": {},
    "colab_type": "code",
    "id": "ceo3oAfIg89R",
    "outputId": "db950728-4d6c-4fe7-c514-9ebed1878648",
    "scrolled": false
   },
   "outputs": [
    {
     "name": "stdout",
     "output_type": "stream",
     "text": [
      "3\n",
      "15\n",
      "6\n",
      "1\n",
      "4.0\n"
     ]
    }
   ],
   "source": [
    "print(3)\n",
    "print(3*5)\n",
    "print(3+3)\n",
    "print(3-2)\n",
    "print(8/2)"
   ]
  },
  {
   "cell_type": "markdown",
   "metadata": {
    "colab_type": "text",
    "id": "llEo2mVxg89X"
   },
   "source": [
    "**Type the following and observe the difference**\n",
    "\n",
    "3\n",
    "\n",
    "3*5\n",
    "\n",
    "3+3\n",
    "\n",
    "3-2\n",
    "\n",
    "8/2"
   ]
  },
  {
   "cell_type": "code",
   "execution_count": 4,
   "metadata": {
    "colab": {},
    "colab_type": "code",
    "id": "J8K_VYbMg89Y",
    "outputId": "61ffceb1-d8f9-40a4-efc0-d48c854c8800"
   },
   "outputs": [
    {
     "data": {
      "text/plain": [
       "4.0"
      ]
     },
     "execution_count": 4,
     "metadata": {},
     "output_type": "execute_result"
    }
   ],
   "source": [
    "3\n",
    "3*5\n",
    "3+3\n",
    "3-2\n",
    "8/2"
   ]
  },
  {
   "cell_type": "markdown",
   "metadata": {
    "colab_type": "text",
    "id": "H-GXoSmHg89c"
   },
   "source": [
    "### Practice: Basic Arithmetic Exercises"
   ]
  },
  {
   "cell_type": "code",
   "execution_count": null,
   "metadata": {
    "colab": {},
    "colab_type": "code",
    "id": "-90ezG6Bg89c",
    "outputId": "b0f8e7b3-5504-412b-b2d7-75b168de2a25",
    "scrolled": true
   },
   "outputs": [
    {
     "name": "stdout",
     "output_type": "stream",
     "text": [
      "2100\n"
     ]
    }
   ],
   "source": [
    "# What is the duration of our 5-day workshop in minutes?\n",
    "\n"
   ]
  },
  {
   "cell_type": "markdown",
   "metadata": {
    "colab_type": "text",
    "id": "GKWbvUO2g89h"
   },
   "source": [
    "### Integers vs. Float\n",
    "\n",
    "For Python 2.x, it interprets 1/2 = 0, while Python 3.x the result will be 0.5\n"
   ]
  },
  {
   "cell_type": "code",
   "execution_count": null,
   "metadata": {
    "colab": {},
    "colab_type": "code",
    "id": "-WhPiYrZg89i",
    "outputId": "885ba92a-4758-4b7d-a54c-38be9b1bba22",
    "scrolled": true
   },
   "outputs": [
    {
     "name": "stdout",
     "output_type": "stream",
     "text": [
      "0.5\n"
     ]
    }
   ],
   "source": [
    "print(1/2)"
   ]
  },
  {
   "cell_type": "code",
   "execution_count": null,
   "metadata": {
    "colab": {},
    "colab_type": "code",
    "id": "1FQZ6-nYg89l",
    "outputId": "a3998d2f-4b01-4d00-8b2f-173695c1b6e2",
    "scrolled": true
   },
   "outputs": [
    {
     "name": "stdout",
     "output_type": "stream",
     "text": [
      "<class 'int'>\n",
      "<class 'float'>\n",
      "3.3333333333333335\n",
      "1\n",
      "3.3333333333333335\n",
      "3.7142857142857144\n",
      "3.0\n",
      "8\n"
     ]
    }
   ],
   "source": [
    "print((type(10)))\n",
    "print((type(10.)))\n",
    "print((10 / 3))\n",
    "print((10 % 3))\n",
    "print((float(10) / 3)) # Force integers to be float\n",
    "print((13.0 / 3.5)) # You can also change the initial data type. \n",
    "print((13.0 //3.5)) # Floor Division, rounds down the result to the nearest integer\n",
    "print((round(7.5))) # You can round floats up to the neares integer."
   ]
  },
  {
   "cell_type": "markdown",
   "metadata": {
    "colab_type": "text",
    "id": "_jTuaFmag89q"
   },
   "source": [
    "### Exercise\n",
    "\n",
    "Find **x** in 5x = 3x + 8"
   ]
  },
  {
   "cell_type": "code",
   "execution_count": null,
   "metadata": {
    "colab": {},
    "colab_type": "code",
    "id": "vmzs8n0Jg89r",
    "outputId": "f5ca6a8c-c8a9-4c42-c0bd-688ce79d4d5c",
    "scrolled": false
   },
   "outputs": [
    {
     "name": "stdout",
     "output_type": "stream",
     "text": [
      "Find x in 5x = 3x + 8\n",
      "4.0\n"
     ]
    }
   ],
   "source": []
  },
  {
   "cell_type": "markdown",
   "metadata": {
    "colab_type": "text",
    "id": "ZPspHxbRg89u"
   },
   "source": [
    "### Try the following: "
   ]
  },
  {
   "cell_type": "code",
   "execution_count": null,
   "metadata": {
    "colab": {},
    "colab_type": "code",
    "id": "bVa4LJrZg89v",
    "outputId": "9f0e2efe-f5b4-4901-c28c-89177efdd1ac",
    "scrolled": true
   },
   "outputs": [
    {
     "name": "stdout",
     "output_type": "stream",
     "text": [
      "7.7\n",
      "3.3\n",
      "12.100000000000001\n",
      "2.5\n",
      "2.0\n",
      "42.540042248725975\n",
      "False\n",
      "True\n"
     ]
    }
   ],
   "source": [
    "print(5.5 + 2.2)\n",
    "print(5.5 - 2.2)\n",
    "print(5.5 * 2.2)\n",
    "print(5.5 / 2.2)\n",
    "print(5.5 // 2.2)\n",
    "print(5.5 ** 2.2)\n",
    "print(5.5 < 2.2)\n",
    "print(5.5 != 2.2)"
   ]
  },
  {
   "cell_type": "markdown",
   "metadata": {
    "colab_type": "text",
    "id": "WIR58oWjg894"
   },
   "source": [
    "# Variables"
   ]
  },
  {
   "cell_type": "code",
   "execution_count": null,
   "metadata": {
    "colab": {},
    "colab_type": "code",
    "id": "76_DJZbug895",
    "outputId": "2f34b354-a458-462e-db57-6b45dfcf3345",
    "scrolled": false
   },
   "outputs": [
    {
     "name": "stdout",
     "output_type": "stream",
     "text": [
      "-10\n",
      "2.7\n",
      "-7.3\n",
      "<class 'int'>\n",
      "<class 'float'>\n",
      "<class 'float'>\n"
     ]
    }
   ],
   "source": [
    "b = -10 \n",
    "c = 2.7 \n",
    "\n",
    "print(b)\n",
    "print(c)\n",
    "print((b + c))\n",
    "\n",
    "print((type(b)))\n",
    "print((type(c)))\n",
    "print((type(b+c)))"
   ]
  },
  {
   "cell_type": "code",
   "execution_count": null,
   "metadata": {
    "colab": {},
    "colab_type": "code",
    "id": "WyTRDeHHg897",
    "outputId": "52cc598a-2265-49ab-8fd6-95355339bbae",
    "scrolled": true
   },
   "outputs": [
    {
     "name": "stdout",
     "output_type": "stream",
     "text": [
      "-100000\n",
      "-20.0\n"
     ]
    }
   ],
   "source": [
    "print(b**5)\n",
    "print(b+c*(b/c))"
   ]
  },
  {
   "cell_type": "markdown",
   "metadata": {
    "colab_type": "text",
    "id": "hyj-SZKNg89-"
   },
   "source": [
    "### Change the data type"
   ]
  },
  {
   "cell_type": "code",
   "execution_count": null,
   "metadata": {
    "colab": {},
    "colab_type": "code",
    "collapsed": true,
    "id": "ZwrWFK4og89_"
   },
   "outputs": [],
   "source": [
    "\n",
    "b = float(b)\n",
    "c = int(c)\n",
    "\n",
    "print(b)\n",
    "print(c)\n",
    "\n",
    "print((type(b)))\n",
    "print((type(c)))"
   ]
  },
  {
   "cell_type": "markdown",
   "metadata": {
    "colab_type": "text",
    "id": "uCrNJXi4g8-F"
   },
   "source": [
    "### Exercise\n",
    "\n",
    "How far does light travel in the time that your computer does one cycle?\n",
    "\n",
    "Assuming that the computer is processing at a frequency of 4GHz. "
   ]
  },
  {
   "cell_type": "code",
   "execution_count": 5,
   "metadata": {
    "colab": {},
    "colab_type": "code",
    "id": "E2Cp575yg8-G",
    "outputId": "3cf793c0-57f7-4429-8318-8151faa15596"
   },
   "outputs": [
    {
     "name": "stdout",
     "output_type": "stream",
     "text": [
      "1.199169832e+18\n",
      "1199169832000000000.000000000\n"
     ]
    }
   ],
   "source": [
    "# a 4 GHz processor has a cycle time of 0.25 ns\n",
    "# Light traveling through a vacuum moves at exactly 299,792,458 meters per second.\n",
    "\n",
    "x = 299792458 / 2.5e-10\n",
    "output = f\"{x:.9f}\"\n",
    "\n",
    "print (x)\n",
    "print (output)"
   ]
  },
  {
   "cell_type": "markdown",
   "metadata": {
    "colab_type": "text",
    "id": "x2chsoSkg8-K"
   },
   "source": [
    "### Type the following command\n",
    "\n",
    "%whos"
   ]
  },
  {
   "cell_type": "code",
   "execution_count": 6,
   "metadata": {
    "colab": {},
    "colab_type": "code",
    "id": "wzXDR5aYg8-K",
    "outputId": "479b1970-d8a9-4516-b813-67edfc1c88ab",
    "scrolled": true
   },
   "outputs": [
    {
     "name": "stdout",
     "output_type": "stream",
     "text": [
      "Variable   Type      Data/Info\n",
      "------------------------------\n",
      "os         module    <module 'os' from 'C:\\\\Us<...>n\\\\Python38\\\\lib\\\\os.py'>\n",
      "output     str       1199169832000000000.000000000\n",
      "sys        module    <module 'sys' (built-in)>\n",
      "x          float     1.199169832e+18\n"
     ]
    }
   ],
   "source": [
    "%whos"
   ]
  },
  {
   "cell_type": "markdown",
   "metadata": {
    "colab_type": "text",
    "id": "drk8MLGvg8-O"
   },
   "source": [
    "# Strings"
   ]
  },
  {
   "cell_type": "markdown",
   "metadata": {
    "colab_type": "text",
    "id": "ZdCK2o59g8-P"
   },
   "source": [
    "Define a variable as your name.  Then print \"I am     ____  from TAR UC\" using your variable. "
   ]
  },
  {
   "cell_type": "code",
   "execution_count": 8,
   "metadata": {
    "colab": {},
    "colab_type": "code",
    "id": "7iJdkXxhg8-P",
    "outputId": "82a4fc5c-96a8-4052-dddd-abd8c346f3d4",
    "scrolled": true
   },
   "outputs": [
    {
     "name": "stdout",
     "output_type": "stream",
     "text": [
      "I am Liana from TAR UC\n"
     ]
    }
   ],
   "source": [
    "name = 'Liana'\n",
    "print(\"I am \" + name + \" from TAR UC\")"
   ]
  },
  {
   "cell_type": "markdown",
   "metadata": {
    "colab_type": "text",
    "id": "Bbuj2Bhvg8-T"
   },
   "source": [
    "### What will happen?\n",
    "\n",
    "print(\"TAR UC is no \" + 1)"
   ]
  },
  {
   "cell_type": "code",
   "execution_count": 9,
   "metadata": {
    "colab": {},
    "colab_type": "code",
    "collapsed": true,
    "id": "8JAX7EvQg8-U"
   },
   "outputs": [
    {
     "ename": "TypeError",
     "evalue": "can only concatenate str (not \"int\") to str",
     "output_type": "error",
     "traceback": [
      "\u001b[1;31m---------------------------------------------------------------------------\u001b[0m",
      "\u001b[1;31mTypeError\u001b[0m                                 Traceback (most recent call last)",
      "\u001b[1;32m~\\AppData\\Local\\Temp/ipykernel_26784/300723037.py\u001b[0m in \u001b[0;36m<module>\u001b[1;34m\u001b[0m\n\u001b[1;32m----> 1\u001b[1;33m \u001b[0mprint\u001b[0m\u001b[1;33m(\u001b[0m\u001b[1;34m\"TAR UC is no \"\u001b[0m \u001b[1;33m+\u001b[0m \u001b[1;36m1\u001b[0m\u001b[1;33m)\u001b[0m\u001b[1;33m\u001b[0m\u001b[1;33m\u001b[0m\u001b[0m\n\u001b[0m",
      "\u001b[1;31mTypeError\u001b[0m: can only concatenate str (not \"int\") to str"
     ]
    }
   ],
   "source": [
    "print(\"TAR UC is no \" + 1)"
   ]
  },
  {
   "cell_type": "markdown",
   "metadata": {
    "colab_type": "text",
    "id": "PPRDntyLg8-W"
   },
   "source": [
    "### Slices of String Indices\n",
    "\n",
    "\n",
    "my_uni[i] -- ith item of my_uni, origin 0\n",
    "\n",
    "my_uni[i:j] -- slice of my_uni from i to j\n",
    "\n",
    "my_uni[i:j:k] -- slice of my_uni from i to j with step k\n"
   ]
  },
  {
   "cell_type": "code",
   "execution_count": null,
   "metadata": {
    "colab": {},
    "colab_type": "code",
    "id": "pffXI54og8-W",
    "outputId": "6189f339-8894-4f7e-c67f-a46f931ad551",
    "scrolled": false
   },
   "outputs": [
    {
     "name": "stdout",
     "output_type": "stream",
     "text": [
      "T\n",
      "TAR U\n",
      "AR U\n",
      "TAR UC\n"
     ]
    }
   ],
   "source": [
    "my_uni='TAR UC'\n",
    "# print(my_uni(0))\n",
    "print(my_uni[0])\n",
    "print(my_uni[0:5])\n",
    "print(my_uni[1:5])\n",
    "print(my_uni[0:6])"
   ]
  },
  {
   "cell_type": "markdown",
   "metadata": {
    "colab_type": "text",
    "id": "DyqVXTp4g8-a"
   },
   "source": [
    "### Useful string slicing\n",
    "\n",
    "len(my_uni) -- length of my_uni\n",
    "\n",
    "my_uni.index('c') -- index of the first occurrence of **c** in my_uni\n",
    "\n",
    "my_uni.find('other') -- searches for the given other string (not a regular expression) within my_uni, and returns the first \n",
    "index where it begins or -1 if not found"
   ]
  },
  {
   "cell_type": "code",
   "execution_count": null,
   "metadata": {
    "colab": {},
    "colab_type": "code",
    "id": "QUJSymnig8-b",
    "outputId": "d5511919-4582-479d-dd99-8d443734ed77",
    "scrolled": true
   },
   "outputs": [
    {
     "name": "stdout",
     "output_type": "stream",
     "text": [
      "5\n",
      "4\n"
     ]
    }
   ],
   "source": [
    "print(my_uni.index('C'))\n",
    "print(my_uni.find('UC'))"
   ]
  },
  {
   "cell_type": "code",
   "execution_count": null,
   "metadata": {
    "colab": {},
    "colab_type": "code",
    "id": "sPaha7WXg8-d",
    "outputId": "912631de-7bad-4f83-8993-050c65447a45",
    "scrolled": true
   },
   "outputs": [
    {
     "name": "stdout",
     "output_type": "stream",
     "text": [
      "Ms. Lim Mei Shyan\n"
     ]
    }
   ],
   "source": [
    "dean = 'Ms. Lim Mei Shyan is the dean of FOCS'\n",
    "\n",
    "print(dean[dean.find('Ms'):dean.find(' is')])"
   ]
  },
  {
   "cell_type": "markdown",
   "metadata": {
    "colab_type": "text",
    "id": "w-kZqiQ3g8-h"
   },
   "source": [
    "### HELP ME PLEASE\n",
    "\n",
    "just type **help(\"str.find\")**"
   ]
  },
  {
   "cell_type": "code",
   "execution_count": null,
   "metadata": {
    "colab": {},
    "colab_type": "code",
    "id": "ecsqiB_1g8-i",
    "outputId": "63d1e045-ea82-4cf7-a22b-f1ed42eff0b5",
    "scrolled": true
   },
   "outputs": [
    {
     "name": "stdout",
     "output_type": "stream",
     "text": [
      "Help on method_descriptor in str:\n",
      "\n",
      "str.find = find(...)\n",
      "    S.find(sub[, start[, end]]) -> int\n",
      "    \n",
      "    Return the lowest index in S where substring sub is found,\n",
      "    such that sub is contained within S[start:end].  Optional\n",
      "    arguments start and end are interpreted as in slice notation.\n",
      "    \n",
      "    Return -1 on failure.\n",
      "\n"
     ]
    }
   ],
   "source": [
    "help(\"str.find\")"
   ]
  },
  {
   "cell_type": "markdown",
   "metadata": {
    "colab_type": "text",
    "id": "y4skPW7fg8-q"
   },
   "source": [
    "### Common built- in methods\n",
    "min(s) -- smallest item of s\t\n",
    "\n",
    "max(s) -- largest item of s\t \n",
    "\n",
    "s.count(x) -- total number of occurrences of x in s\t\n",
    "\n",
    "s.lower(), s.upper() -- returns the lowercase or uppercase version of the string\n",
    "\n",
    "s.strip() -- returns a string with whitespace removed from the start and end\n",
    "\n",
    "s.isalpha()/s.isdigit()/s.isspace()... -- tests if all the string chars are in the various character classes\n",
    "\n",
    "s.startswith('other'), s.endswith('other') -- tests if the string starts or ends with the given other string\n",
    "\n",
    "s.replace('old', 'new') -- returns a string where all occurrences of 'old' have been replaced by 'new'\n",
    "\n",
    "s.split('delim') -- returns a list of substrings separated by the given delimiter. The delimiter is not a regular expression, it's just text. 'aaa,bbb,ccc'.split(',') -> ['aaa', 'bbb', 'ccc']. As a convenient special case s.split() (with no arguments) splits on all whitespace chars.\n",
    "\n",
    "s.join(list) -- opposite of split(), joins the elements in the given list together using the string as the delimiter. e.g. '---'.join(['aaa', 'bbb', 'ccc']) -> aaa---bbb---ccc"
   ]
  },
  {
   "cell_type": "markdown",
   "metadata": {
    "colab_type": "text",
    "id": "rd3lMOy3g8-r"
   },
   "source": [
    "### Exercise\n",
    "\n",
    "print *Ms. Chok Len Mooi is the deputy dean of FOCS* in uppercase"
   ]
  },
  {
   "cell_type": "code",
   "execution_count": null,
   "metadata": {
    "colab": {},
    "colab_type": "code",
    "id": "S3Ald9MUg8-r",
    "outputId": "01c6d4c7-2e9c-41a4-bbb7-4cb3470fff07"
   },
   "outputs": [
    {
     "name": "stdout",
     "output_type": "stream",
     "text": [
      "MS. CHOK LEN MOOI IS THE DEPUTY DEAN OF FOCS.\n"
     ]
    }
   ],
   "source": []
  },
  {
   "cell_type": "markdown",
   "metadata": {
    "colab_type": "text",
    "id": "KnfTdYR8g8-v"
   },
   "source": [
    "### Format\n",
    "\n",
    "The % operator takes a printf-type format string on the left (%d int, %s string, %f/%g floating point), and the matching values in a tuple on the right (a tuple is made of values separated by commas, typically grouped inside parenthesis)."
   ]
  },
  {
   "cell_type": "code",
   "execution_count": null,
   "metadata": {
    "colab": {},
    "colab_type": "code",
    "id": "qvCUZsdog8-v",
    "outputId": "6e953f1a-a574-4251-bd7c-c5be0bd0db1e",
    "scrolled": true
   },
   "outputs": [
    {
     "name": "stdout",
     "output_type": "stream",
     "text": [
      "My name is YU. I am working at Tar UC as a Senior Lecturer. I have been with this company for 1 years.\n",
      "My name is YU. I am working at Tar UC as a Senior Lecturer. I have been with this company for 1 years.\n"
     ]
    }
   ],
   "source": [
    "print('My name is %s. I am working at %s as a %s. \\\n",
    "I have been with this company for %d years.'%('YU','Tar UC', 'Senior Lecturer', 1))\n",
    "\n",
    "print('My name is {}. I am working at {} as a {}. \\\n",
    "I have been with this company for {} years.'.format('YU','Tar UC', 'Senior Lecturer', 1))"
   ]
  },
  {
   "cell_type": "markdown",
   "metadata": {
    "colab_type": "text",
    "id": "3aH0wU3Jg8-z"
   },
   "source": [
    "# Function"
   ]
  },
  {
   "cell_type": "code",
   "execution_count": null,
   "metadata": {
    "colab": {},
    "colab_type": "code",
    "id": "h4EEk1tAg8-z"
   },
   "outputs": [],
   "source": [
    "def maths_is_beautiful( x , y ):\n",
    "    \"This is my first function. Please take note that indent is important!\"\n",
    "    \n",
    "    return x + y"
   ]
  },
  {
   "cell_type": "code",
   "execution_count": null,
   "metadata": {
    "colab": {},
    "colab_type": "code",
    "id": "aU1NlxU1g8-2",
    "outputId": "71549bff-f6da-4102-e7ee-43971540c911"
   },
   "outputs": [
    {
     "data": {
      "text/plain": [
       "13"
      ]
     },
     "execution_count": 63,
     "metadata": {
      "tags": []
     },
     "output_type": "execute_result"
    }
   ],
   "source": [
    "maths_is_beautiful(5,8)"
   ]
  },
  {
   "cell_type": "markdown",
   "metadata": {
    "colab_type": "text",
    "id": "DY-ejW_jg8-4"
   },
   "source": [
    "### Thinking Corner\n",
    "Oops, \"This is my first function. Please take note that indent is important!\" was not returned?!"
   ]
  },
  {
   "cell_type": "code",
   "execution_count": null,
   "metadata": {
    "colab": {},
    "colab_type": "code",
    "collapsed": true,
    "id": "x6ZHWcr7g8-5"
   },
   "outputs": [],
   "source": []
  },
  {
   "cell_type": "code",
   "execution_count": null,
   "metadata": {
    "colab": {},
    "colab_type": "code",
    "id": "HLuZKajog8-_",
    "outputId": "ce52a3f7-e8bc-49bb-ff5d-fbcf78e4a2fd",
    "scrolled": true
   },
   "outputs": [
    {
     "name": "stdout",
     "output_type": "stream",
     "text": [
      "This is my first function. Please take note that indent is important!\n"
     ]
    },
    {
     "data": {
      "text/plain": [
       "16"
      ]
     },
     "execution_count": 65,
     "metadata": {
      "tags": []
     },
     "output_type": "execute_result"
    }
   ],
   "source": [
    "\n",
    "# Retify the problem and complete the code\n",
    "\n",
    "## start your code here...\n",
    "\n",
    "maths_is_beautiful2(7,9)"
   ]
  },
  {
   "cell_type": "markdown",
   "metadata": {
    "colab_type": "text",
    "id": "w_E4Rfrng8_B"
   },
   "source": [
    "### Exercise \n",
    "\n",
    "Write a function to find the square root of a number"
   ]
  },
  {
   "cell_type": "code",
   "execution_count": null,
   "metadata": {
    "colab": {},
    "colab_type": "code",
    "id": "cHERqKHXg8_B",
    "outputId": "2788be54-cede-4304-a0bb-cab70186b5e4",
    "scrolled": true
   },
   "outputs": [
    {
     "name": "stdout",
     "output_type": "stream",
     "text": [
      "10.0\n"
     ]
    }
   ],
   "source": [
    "import math\n",
    "a= 100\n",
    "print (math.sqrt(a))"
   ]
  },
  {
   "cell_type": "code",
   "execution_count": null,
   "metadata": {
    "colab": {},
    "colab_type": "code",
    "id": "zp1ouS7Mg8_H",
    "outputId": "19378092-8cf6-4806-c85a-bdac64257e6d",
    "scrolled": true
   },
   "outputs": [
    {
     "name": "stdout",
     "output_type": "stream",
     "text": [
      "10.0\n"
     ]
    }
   ],
   "source": [
    "def squareroot(num):\n",
    "    # your code\n",
    "\n",
    "print (squareroot(a))"
   ]
  },
  {
   "cell_type": "markdown",
   "metadata": {
    "colab_type": "text",
    "id": "L_9chMHfg8_J"
   },
   "source": [
    "### Logic"
   ]
  },
  {
   "cell_type": "code",
   "execution_count": null,
   "metadata": {
    "colab": {},
    "colab_type": "code",
    "id": "YEfoiCv_g8_K",
    "outputId": "cfd89aa1-a528-4fd4-83a6-8e452147271f",
    "scrolled": true
   },
   "outputs": [
    {
     "name": "stdout",
     "output_type": "stream",
     "text": [
      "True\n",
      "False\n",
      "True\n",
      "False\n",
      "True\n",
      "False\n",
      "True\n",
      "False\n"
     ]
    }
   ],
   "source": [
    "print((5 > 2))\n",
    "print((2 > 5))\n",
    "print((2 is 2))\n",
    "print((2 == 3)) \n",
    "print((5 > 2 or 2 > 1))\n",
    "print((5 > 2 and 2 > 2))\n",
    "print(('s' in 'datascience'))\n",
    "print(('x' in 'datascience'))"
   ]
  },
  {
   "cell_type": "markdown",
   "metadata": {
    "colab_type": "text",
    "id": "Yn3wO5jSg8_M"
   },
   "source": [
    "### if-else condition\n"
   ]
  },
  {
   "cell_type": "code",
   "execution_count": null,
   "metadata": {
    "colab": {},
    "colab_type": "code",
    "id": "lgTQV9vTg8_N",
    "outputId": "c7775eac-e6f0-4f5e-dc6d-7841cf4cc3bf"
   },
   "outputs": [
    {
     "name": "stdout",
     "output_type": "stream",
     "text": [
      "5\n",
      "6\n",
      "0\n"
     ]
    }
   ],
   "source": [
    "\n",
    "\n",
    "def which_is_bigger(a,b):\n",
    "    if a > b:\n",
    "        return a\n",
    "    elif a < b:\n",
    "        return b\n",
    "    else:\n",
    "        return 0\n",
    "\n",
    "print(which_is_bigger (5,3))\n",
    "print(which_is_bigger (3,6))\n",
    "print(which_is_bigger (3,3))"
   ]
  },
  {
   "cell_type": "markdown",
   "metadata": {
    "colab_type": "text",
    "id": "8WmvPojUg8_Q"
   },
   "source": [
    "### while condition"
   ]
  },
  {
   "cell_type": "code",
   "execution_count": null,
   "metadata": {
    "colab": {},
    "colab_type": "code",
    "id": "d2RI5-Wcg8_R",
    "outputId": "d10b8eac-da66-42b5-9c31-92ce4f29ea15",
    "scrolled": true
   },
   "outputs": [
    {
     "name": "stdout",
     "output_type": "stream",
     "text": [
      "The population of China relative to Malaysia is about: 46.551724\n",
      "The population of India relative to Malaysia is about: 41.724138\n",
      "The population of United States relative to Malaysia is about: 10.655172\n",
      "The population of Malaysia relative to Malaysia is about: 1.000000\n"
     ]
    }
   ],
   "source": [
    "\n",
    "countries = [['China','Beijing', 1350],\n",
    "             ['India','Delhi',1210],\n",
    "             ['United States','Washington DC', 309],\n",
    "             ['Malaysia','Kuala Lumpur',29]]\n",
    "\n",
    "# How many times bigger is the population of \n",
    "# China, India, and the US relative to Malaysia?\n",
    "\n",
    "number_of_list = len(countries)\n",
    "index = 0\n",
    "while (index <number_of_list):\n",
    "    ratio = countries[index][2]/countries[3][2]\n",
    "    print('The population of %s relative to %s is about: %f'%(countries[index][0],countries[3][0],ratio))\n",
    "    index = index + 1\n"
   ]
  },
  {
   "cell_type": "markdown",
   "metadata": {
    "colab_type": "text",
    "id": "EJ1IorJAg8_T"
   },
   "source": [
    "### List Methods\n",
    "\n",
    "- list.append(elem) -- adds a single element to the end of the list. Common error: does not return the new list, just modifies the original.\n",
    "- list.insert(index, elem) -- inserts the element at the given index, shifting elements to the right.\n",
    "- list.extend(list2) adds the elements in list2 to the end of the list. Using + or += on a list is similar to using extend().\n",
    "- list.index(elem) -- searches for the given element from the start of the list and returns its index. Throws a ValueError if the element does not appear (use \"in\" to check without a ValueError).\n",
    "- list.remove(elem) -- searches for the first instance of the given element and removes it (throws ValueError if not present)\n",
    "- list.sort() -- sorts the list in place (does not return it).\n",
    "- sorted(list) -- return sorted list but keeps the original order of the list\n",
    "- list.reverse() -- reverses the list in place (does not return it)\n",
    "- list.pop(index) -- removes and returns the element at the given index. Returns the rightmost element if index is omitted (roughly the opposite of append())."
   ]
  },
  {
   "cell_type": "markdown",
   "metadata": {
    "colab_type": "text",
    "id": "_Pn8K8U6g8_T"
   },
   "source": [
    "#### Example"
   ]
  },
  {
   "cell_type": "code",
   "execution_count": null,
   "metadata": {
    "colab": {},
    "colab_type": "code",
    "id": "N8x7Kt75g8_U",
    "outputId": "aa54c7a7-3bdb-48a3-fc9a-43bbf2db841b"
   },
   "outputs": [
    {
     "data": {
      "text/plain": [
       "['red', 'green', 'blue', 'purple']"
      ]
     },
     "execution_count": 74,
     "metadata": {
      "tags": []
     },
     "output_type": "execute_result"
    }
   ],
   "source": [
    "colors = ['red', 'green', 'blue']\n",
    "colors.append('purple')\n",
    "colors"
   ]
  },
  {
   "cell_type": "markdown",
   "metadata": {
    "colab_type": "text",
    "id": "GW2pHPwlg8_Y"
   },
   "source": [
    "### List Slicing\n",
    "\n",
    "it is similar to R. Be reminded that for python, the index always starts from zero. \n"
   ]
  },
  {
   "cell_type": "code",
   "execution_count": null,
   "metadata": {
    "colab": {},
    "colab_type": "code",
    "id": "jiP7a-Nrg8_Z",
    "outputId": "fb14b6c3-d397-495b-925d-3ff19375ce2e"
   },
   "outputs": [
    {
     "name": "stdout",
     "output_type": "stream",
     "text": [
      "red\n",
      "e\n"
     ]
    }
   ],
   "source": [
    "print(colors[0])\n",
    "print(colors[0][1])"
   ]
  },
  {
   "cell_type": "markdown",
   "metadata": {
    "colab_type": "text",
    "id": "UhFw2CTig8_e"
   },
   "source": [
    "### for loop"
   ]
  },
  {
   "cell_type": "code",
   "execution_count": null,
   "metadata": {
    "colab": {},
    "colab_type": "code",
    "id": "XjnhjAYTg8_f",
    "outputId": "3b7b1976-bc8b-430c-e98b-85e3e125ef68"
   },
   "outputs": [
    {
     "data": {
      "text/plain": [
       "216"
      ]
     },
     "execution_count": 80,
     "metadata": {
      "tags": []
     },
     "output_type": "execute_result"
    }
   ],
   "source": [
    "# Define sum_list.\n",
    "\n",
    "def sum_list(your_list):\n",
    "\n",
    "    \n",
    "    totalvalue = 0\n",
    "    \n",
    "    for value in your_list:\n",
    "    \n",
    "        totalvalue = totalvalue + value\n",
    "\n",
    "    return totalvalue\n",
    "\n",
    "mark_list = [69,58,89]\n",
    "sum_list(mark_list)"
   ]
  },
  {
   "cell_type": "markdown",
   "metadata": {
    "colab_type": "text",
    "id": "QieyMTJvg8_o"
   },
   "source": [
    "### List Comprehensions\n",
    "\n",
    "Quite similar to lappy function in R"
   ]
  },
  {
   "cell_type": "code",
   "execution_count": null,
   "metadata": {
    "colab": {},
    "colab_type": "code",
    "id": "hafro6mUg8_o",
    "outputId": "f826ce8f-df6c-4b46-8428-329c90fa2a97"
   },
   "outputs": [
    {
     "name": "stdout",
     "output_type": "stream",
     "text": [
      "[1, 4, 9, 16, 25, 36, 49, 64]\n"
     ]
    }
   ],
   "source": [
    "numbers = [1, 2, 3, 4, 5, 6, 7, 8]\n",
    "squares = [n*n for n in numbers]\n",
    "\n",
    "print(squares)"
   ]
  }
 ],
 "metadata": {
  "colab": {
   "name": "1.0_Intro.ipynb",
   "provenance": []
  },
  "interpreter": {
   "hash": "37833eaa7c79fc29fc64cdd65cef9244dd84f1f67a5ba8cd87f16f157512cb2c"
  },
  "kernelspec": {
   "display_name": "Python 3.8.10 64-bit",
   "name": "python3"
  },
  "language_info": {
   "codemirror_mode": {
    "name": "ipython",
    "version": 3
   },
   "file_extension": ".py",
   "mimetype": "text/x-python",
   "name": "python",
   "nbconvert_exporter": "python",
   "pygments_lexer": "ipython3",
   "version": "3.8.10"
  }
 },
 "nbformat": 4,
 "nbformat_minor": 1
}
